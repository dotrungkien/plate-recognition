{
 "cells": [
  {
   "cell_type": "code",
   "execution_count": 1,
   "metadata": {},
   "outputs": [
    {
     "name": "stderr",
     "output_type": "stream",
     "text": [
      "/home/dotrungkien/py35/lib/python3.5/site-packages/h5py/__init__.py:36: FutureWarning: Conversion of the second argument of issubdtype from `float` to `np.floating` is deprecated. In future, it will be treated as `np.float64 == np.dtype(float).type`.\n",
      "  from ._conv import register_converters as _register_converters\n",
      "Using TensorFlow backend.\n"
     ]
    },
    {
     "name": "stdout",
     "output_type": "stream",
     "text": [
      "Platform: Linux-4.4.0-112-generic-x86_64-with-Ubuntu-16.04-xenial\n",
      "Tensorflow version: 1.4.0\n",
      "Keras version: 2.0.9\n"
     ]
    }
   ],
   "source": [
    "import platform\n",
    "import tensorflow\n",
    "import keras\n",
    "print(\"Platform: {}\".format(platform.platform()))\n",
    "print(\"Tensorflow version: {}\".format(tensorflow.__version__))\n",
    "print(\"Keras version: {}\".format(keras.__version__))\n",
    "\n",
    "%matplotlib inline\n",
    "import matplotlib.pyplot as plt\n",
    "import matplotlib.image as mpimg\n",
    "import numpy as np\n",
    "from IPython.display import Image"
   ]
  },
  {
   "cell_type": "code",
   "execution_count": 18,
   "metadata": {},
   "outputs": [],
   "source": [
    "train_dir = \"train\"\n",
    "validation_dir = \"validation\"\n",
    "test_dir = \"test\"\n",
    "chars = \"ABCDEFGHIJKLMNOPQRSTUVWXYZ0123456789\"\n",
    "n_classes = 36\n",
    "n_len = 7\n",
    "height, width = 224, 224"
   ]
  },
  {
   "cell_type": "code",
   "execution_count": 19,
   "metadata": {},
   "outputs": [],
   "source": [
    "from glob import glob\n",
    "from keras.preprocessing.image import load_img\n",
    "from keras.preprocessing.image import img_to_array\n",
    "from keras.applications import VGG16\n",
    "from keras.applications.vgg16 import preprocess_input"
   ]
  },
  {
   "cell_type": "code",
   "execution_count": 39,
   "metadata": {},
   "outputs": [],
   "source": [
    "def read_data(img_dir):\n",
    "    img_paths = glob(\"{}/*.png\".format(img_dir))\n",
    "    images = []\n",
    "    labels = []\n",
    "    for img_path in img_paths:\n",
    "        image = load_img(img_path, target_size=(224, 224))\n",
    "        image = img_to_array(image)\n",
    "#         image = image.reshape((1, image.shape[0], image.shape[1], image.shape[2]))\n",
    "        image = preprocess_input(image)/255.\n",
    "        label = [chars.index(i) for i in img_path.split('/')[-1].split('_')[1]]\n",
    "        images.append(image)\n",
    "        labels.append(label)\n",
    "    return np.array(images), np.array(labels)\n",
    "\n",
    "def list_to_categorical(y):\n",
    "    y_cat = []\n",
    "    for i in y:\n",
    "        j = np.zeros((7, n_classes))\n",
    "        j[np.arange(7), i] = 1\n",
    "        y_cat.append(j)\n",
    "    return np.array(y_cat)"
   ]
  },
  {
   "cell_type": "code",
   "execution_count": 40,
   "metadata": {},
   "outputs": [
    {
     "data": {
      "text/plain": [
       "((1000, 224, 224, 3), (1000, 7, 36))"
      ]
     },
     "execution_count": 40,
     "metadata": {},
     "output_type": "execute_result"
    }
   ],
   "source": [
    "x_train, y_train = read_data(train_dir)\n",
    "y_train = list_to_categorical(y_train)\n",
    "x_train.shape, y_train.shape"
   ]
  },
  {
   "cell_type": "code",
   "execution_count": 41,
   "metadata": {},
   "outputs": [
    {
     "data": {
      "text/plain": [
       "((500, 224, 224, 3), (500, 7, 36))"
      ]
     },
     "execution_count": 41,
     "metadata": {},
     "output_type": "execute_result"
    }
   ],
   "source": [
    "x_val, y_val = read_data(validation_dir)\n",
    "y_val = list_to_categorical(y_val)\n",
    "x_val.shape, y_val.shape"
   ]
  },
  {
   "cell_type": "code",
   "execution_count": 42,
   "metadata": {},
   "outputs": [
    {
     "data": {
      "text/plain": [
       "((500, 224, 224, 3), (500, 7, 36))"
      ]
     },
     "execution_count": 42,
     "metadata": {},
     "output_type": "execute_result"
    }
   ],
   "source": [
    "x_test, y_test = read_data(test_dir)\n",
    "y_test = list_to_categorical(y_test)\n",
    "x_test.shape, y_test.shape"
   ]
  },
  {
   "cell_type": "code",
   "execution_count": 49,
   "metadata": {},
   "outputs": [],
   "source": [
    "def gen_batch(batch_size=32):\n",
    "    while True:\n",
    "        random_indices = np.random.choice(x_train.shape[0], batch_size)\n",
    "        x_batch = x_train[random_indices]\n",
    "        y_batch = y_train[random_indices].reshape(-1, batch_size, n_classes)\n",
    "        yield x_batch, list(y_batch)"
   ]
  },
  {
   "cell_type": "code",
   "execution_count": 50,
   "metadata": {},
   "outputs": [
    {
     "data": {
      "text/plain": [
       "(numpy.ndarray, list)"
      ]
     },
     "execution_count": 50,
     "metadata": {},
     "output_type": "execute_result"
    }
   ],
   "source": [
    "x_batch, y_batch = next(gen_batch())\n",
    "type(x_batch), type(y_batch)"
   ]
  },
  {
   "cell_type": "code",
   "execution_count": 55,
   "metadata": {},
   "outputs": [
    {
     "name": "stderr",
     "output_type": "stream",
     "text": [
      "/home/dotrungkien/py35/lib/python3.5/site-packages/ipykernel_launcher.py:10: UserWarning: Update your `Model` call to the Keras 2 API: `Model(inputs=Tensor(\"in..., outputs=[<tf.Tenso...)`\n",
      "  # Remove the CWD from sys.path while we load stuff.\n"
     ]
    }
   ],
   "source": [
    "from keras.models import Model\n",
    "from keras.layers import Dense, Flatten, Dropout\n",
    "\n",
    "base_model = VGG16(weights='imagenet', include_top=False, input_shape=(224, 224, 3))\n",
    "\n",
    "x = base_model.output\n",
    "x = Flatten()(x)\n",
    "x = Dropout(0.25)(x)\n",
    "x = [Dense(n_classes, activation='softmax', name=\"char_{}\".format(i))(x) for i in range(n_len)]\n",
    "model = Model(input=base_model.input, output=x)"
   ]
  },
  {
   "cell_type": "code",
   "execution_count": 56,
   "metadata": {},
   "outputs": [
    {
     "name": "stdout",
     "output_type": "stream",
     "text": [
      "__________________________________________________________________________________________________\n",
      "Layer (type)                    Output Shape         Param #     Connected to                     \n",
      "==================================================================================================\n",
      "input_8 (InputLayer)            (None, 224, 224, 3)  0                                            \n",
      "__________________________________________________________________________________________________\n",
      "block1_conv1 (Conv2D)           (None, 224, 224, 64) 1792        input_8[0][0]                    \n",
      "__________________________________________________________________________________________________\n",
      "block1_conv2 (Conv2D)           (None, 224, 224, 64) 36928       block1_conv1[0][0]               \n",
      "__________________________________________________________________________________________________\n",
      "block1_pool (MaxPooling2D)      (None, 112, 112, 64) 0           block1_conv2[0][0]               \n",
      "__________________________________________________________________________________________________\n",
      "block2_conv1 (Conv2D)           (None, 112, 112, 128 73856       block1_pool[0][0]                \n",
      "__________________________________________________________________________________________________\n",
      "block2_conv2 (Conv2D)           (None, 112, 112, 128 147584      block2_conv1[0][0]               \n",
      "__________________________________________________________________________________________________\n",
      "block2_pool (MaxPooling2D)      (None, 56, 56, 128)  0           block2_conv2[0][0]               \n",
      "__________________________________________________________________________________________________\n",
      "block3_conv1 (Conv2D)           (None, 56, 56, 256)  295168      block2_pool[0][0]                \n",
      "__________________________________________________________________________________________________\n",
      "block3_conv2 (Conv2D)           (None, 56, 56, 256)  590080      block3_conv1[0][0]               \n",
      "__________________________________________________________________________________________________\n",
      "block3_conv3 (Conv2D)           (None, 56, 56, 256)  590080      block3_conv2[0][0]               \n",
      "__________________________________________________________________________________________________\n",
      "block3_pool (MaxPooling2D)      (None, 28, 28, 256)  0           block3_conv3[0][0]               \n",
      "__________________________________________________________________________________________________\n",
      "block4_conv1 (Conv2D)           (None, 28, 28, 512)  1180160     block3_pool[0][0]                \n",
      "__________________________________________________________________________________________________\n",
      "block4_conv2 (Conv2D)           (None, 28, 28, 512)  2359808     block4_conv1[0][0]               \n",
      "__________________________________________________________________________________________________\n",
      "block4_conv3 (Conv2D)           (None, 28, 28, 512)  2359808     block4_conv2[0][0]               \n",
      "__________________________________________________________________________________________________\n",
      "block4_pool (MaxPooling2D)      (None, 14, 14, 512)  0           block4_conv3[0][0]               \n",
      "__________________________________________________________________________________________________\n",
      "block5_conv1 (Conv2D)           (None, 14, 14, 512)  2359808     block4_pool[0][0]                \n",
      "__________________________________________________________________________________________________\n",
      "block5_conv2 (Conv2D)           (None, 14, 14, 512)  2359808     block5_conv1[0][0]               \n",
      "__________________________________________________________________________________________________\n",
      "block5_conv3 (Conv2D)           (None, 14, 14, 512)  2359808     block5_conv2[0][0]               \n",
      "__________________________________________________________________________________________________\n",
      "block5_pool (MaxPooling2D)      (None, 7, 7, 512)    0           block5_conv3[0][0]               \n",
      "__________________________________________________________________________________________________\n",
      "flatten_8 (Flatten)             (None, 25088)        0           block5_pool[0][0]                \n",
      "__________________________________________________________________________________________________\n",
      "dropout_8 (Dropout)             (None, 25088)        0           flatten_8[0][0]                  \n",
      "__________________________________________________________________________________________________\n",
      "char_0 (Dense)                  (None, 36)           903204      dropout_8[0][0]                  \n",
      "__________________________________________________________________________________________________\n",
      "char_1 (Dense)                  (None, 36)           903204      dropout_8[0][0]                  \n",
      "__________________________________________________________________________________________________\n",
      "char_2 (Dense)                  (None, 36)           903204      dropout_8[0][0]                  \n",
      "__________________________________________________________________________________________________\n",
      "char_3 (Dense)                  (None, 36)           903204      dropout_8[0][0]                  \n",
      "__________________________________________________________________________________________________\n",
      "char_4 (Dense)                  (None, 36)           903204      dropout_8[0][0]                  \n",
      "__________________________________________________________________________________________________\n",
      "char_5 (Dense)                  (None, 36)           903204      dropout_8[0][0]                  \n",
      "__________________________________________________________________________________________________\n",
      "char_6 (Dense)                  (None, 36)           903204      dropout_8[0][0]                  \n",
      "==================================================================================================\n",
      "Total params: 21,037,116\n",
      "Trainable params: 21,037,116\n",
      "Non-trainable params: 0\n",
      "__________________________________________________________________________________________________\n"
     ]
    }
   ],
   "source": [
    "model.summary()"
   ]
  },
  {
   "cell_type": "code",
   "execution_count": 57,
   "metadata": {},
   "outputs": [],
   "source": [
    "# conv_base.trainable = False\n",
    "for layer in base_model.layers:\n",
    "    layer.trainable = False"
   ]
  },
  {
   "cell_type": "code",
   "execution_count": 58,
   "metadata": {},
   "outputs": [
    {
     "name": "stdout",
     "output_type": "stream",
     "text": [
      "Epoch 1/10\n",
      " - 6s - loss: 34.6911 - char_0_loss: 4.9295 - char_1_loss: 4.8494 - char_2_loss: 5.0364 - char_3_loss: 4.9879 - char_4_loss: 4.9053 - char_5_loss: 4.9032 - char_6_loss: 5.0794 - char_0_acc: 0.0282 - char_1_acc: 0.0302 - char_2_acc: 0.0282 - char_3_acc: 0.0181 - char_4_acc: 0.0323 - char_5_acc: 0.0252 - char_6_acc: 0.0323 - val_loss: 33.9358 - val_char_0_loss: 4.6869 - val_char_1_loss: 5.0030 - val_char_2_loss: 4.6456 - val_char_3_loss: 5.1253 - val_char_4_loss: 4.4589 - val_char_5_loss: 4.7060 - val_char_6_loss: 5.3101 - val_char_0_acc: 0.0250 - val_char_1_acc: 0.0250 - val_char_2_acc: 0.0375 - val_char_3_acc: 0.0187 - val_char_4_acc: 0.0125 - val_char_5_acc: 0.0312 - val_char_6_acc: 0.0250\n",
      "Epoch 2/10\n",
      " - 5s - loss: 34.3020 - char_0_loss: 4.7294 - char_1_loss: 5.0052 - char_2_loss: 4.8231 - char_3_loss: 4.8911 - char_4_loss: 4.8878 - char_5_loss: 4.9201 - char_6_loss: 5.0454 - char_0_acc: 0.0393 - char_1_acc: 0.0202 - char_2_acc: 0.0312 - char_3_acc: 0.0272 - char_4_acc: 0.0423 - char_5_acc: 0.0192 - char_6_acc: 0.0232 - val_loss: 34.1323 - val_char_0_loss: 4.7622 - val_char_1_loss: 4.9860 - val_char_2_loss: 4.9075 - val_char_3_loss: 4.8576 - val_char_4_loss: 4.6580 - val_char_5_loss: 5.0545 - val_char_6_loss: 4.9064 - val_char_0_acc: 0.0187 - val_char_1_acc: 0.0125 - val_char_2_acc: 0.0312 - val_char_3_acc: 0.0250 - val_char_4_acc: 0.0125 - val_char_5_acc: 0.0063 - val_char_6_acc: 0.0563\n",
      "Epoch 3/10\n",
      " - 5s - loss: 34.8203 - char_0_loss: 4.9870 - char_1_loss: 5.1228 - char_2_loss: 4.9954 - char_3_loss: 4.9231 - char_4_loss: 4.8511 - char_5_loss: 4.9119 - char_6_loss: 5.0290 - char_0_acc: 0.0282 - char_1_acc: 0.0202 - char_2_acc: 0.0292 - char_3_acc: 0.0312 - char_4_acc: 0.0343 - char_5_acc: 0.0383 - char_6_acc: 0.0302 - val_loss: 35.0564 - val_char_0_loss: 4.9153 - val_char_1_loss: 5.2265 - val_char_2_loss: 5.0260 - val_char_3_loss: 4.8397 - val_char_4_loss: 5.0436 - val_char_5_loss: 5.0471 - val_char_6_loss: 4.9581 - val_char_0_acc: 0.0312 - val_char_1_acc: 0.0187 - val_char_2_acc: 0.0125 - val_char_3_acc: 0.0437 - val_char_4_acc: 0.0187 - val_char_5_acc: 0.0187 - val_char_6_acc: 0.0187\n",
      "Epoch 4/10\n",
      " - 5s - loss: 34.7157 - char_0_loss: 4.9770 - char_1_loss: 5.0450 - char_2_loss: 4.8441 - char_3_loss: 4.9420 - char_4_loss: 5.0169 - char_5_loss: 5.0403 - char_6_loss: 4.8504 - char_0_acc: 0.0282 - char_1_acc: 0.0252 - char_2_acc: 0.0232 - char_3_acc: 0.0312 - char_4_acc: 0.0292 - char_5_acc: 0.0262 - char_6_acc: 0.0181 - val_loss: 33.5967 - val_char_0_loss: 4.6757 - val_char_1_loss: 5.3381 - val_char_2_loss: 4.8756 - val_char_3_loss: 4.5787 - val_char_4_loss: 4.6940 - val_char_5_loss: 4.6721 - val_char_6_loss: 4.7625 - val_char_0_acc: 0.0375 - val_char_1_acc: 0.0250 - val_char_2_acc: 0.0437 - val_char_3_acc: 0.0250 - val_char_4_acc: 0.0187 - val_char_5_acc: 0.0187 - val_char_6_acc: 0.0250\n",
      "Epoch 5/10\n",
      " - 5s - loss: 34.9140 - char_0_loss: 4.9213 - char_1_loss: 5.0346 - char_2_loss: 5.0918 - char_3_loss: 4.9199 - char_4_loss: 5.1433 - char_5_loss: 4.9184 - char_6_loss: 4.8846 - char_0_acc: 0.0302 - char_1_acc: 0.0232 - char_2_acc: 0.0242 - char_3_acc: 0.0312 - char_4_acc: 0.0222 - char_5_acc: 0.0343 - char_6_acc: 0.0302 - val_loss: 35.3259 - val_char_0_loss: 5.0258 - val_char_1_loss: 4.9863 - val_char_2_loss: 5.3009 - val_char_3_loss: 5.1129 - val_char_4_loss: 5.1055 - val_char_5_loss: 4.6698 - val_char_6_loss: 5.1246 - val_char_0_acc: 0.0500 - val_char_1_acc: 0.0250 - val_char_2_acc: 0.0375 - val_char_3_acc: 0.0187 - val_char_4_acc: 0.0250 - val_char_5_acc: 0.0250 - val_char_6_acc: 0.0312\n",
      "Epoch 6/10\n",
      " - 5s - loss: 35.1202 - char_0_loss: 5.0795 - char_1_loss: 4.9161 - char_2_loss: 5.3866 - char_3_loss: 4.9513 - char_4_loss: 4.8096 - char_5_loss: 5.0116 - char_6_loss: 4.9654 - char_0_acc: 0.0252 - char_1_acc: 0.0262 - char_2_acc: 0.0131 - char_3_acc: 0.0181 - char_4_acc: 0.0343 - char_5_acc: 0.0373 - char_6_acc: 0.0302 - val_loss: 34.2919 - val_char_0_loss: 5.0019 - val_char_1_loss: 4.6515 - val_char_2_loss: 5.2935 - val_char_3_loss: 5.1354 - val_char_4_loss: 4.9021 - val_char_5_loss: 4.6443 - val_char_6_loss: 4.6631 - val_char_0_acc: 0.0250 - val_char_1_acc: 0.0563 - val_char_2_acc: 0.0187 - val_char_3_acc: 0.0125 - val_char_4_acc: 0.0250 - val_char_5_acc: 0.0437 - val_char_6_acc: 0.0125\n",
      "Epoch 7/10\n",
      " - 4s - loss: 35.5610 - char_0_loss: 5.1271 - char_1_loss: 4.9377 - char_2_loss: 5.2195 - char_3_loss: 5.1431 - char_4_loss: 4.9923 - char_5_loss: 5.0811 - char_6_loss: 5.0603 - char_0_acc: 0.0343 - char_1_acc: 0.0312 - char_2_acc: 0.0252 - char_3_acc: 0.0212 - char_4_acc: 0.0262 - char_5_acc: 0.0383 - char_6_acc: 0.0444 - val_loss: 34.8560 - val_char_0_loss: 4.9726 - val_char_1_loss: 4.8015 - val_char_2_loss: 4.9459 - val_char_3_loss: 5.1797 - val_char_4_loss: 5.0598 - val_char_5_loss: 4.7822 - val_char_6_loss: 5.1143 - val_char_0_acc: 0.0312 - val_char_1_acc: 0.0500 - val_char_2_acc: 0.0187 - val_char_3_acc: 0.0250 - val_char_4_acc: 0.0250 - val_char_5_acc: 0.0250 - val_char_6_acc: 0.0250\n",
      "Epoch 8/10\n",
      " - 4s - loss: 36.1242 - char_0_loss: 5.2354 - char_1_loss: 5.1596 - char_2_loss: 5.1315 - char_3_loss: 5.1462 - char_4_loss: 5.0726 - char_5_loss: 5.1297 - char_6_loss: 5.2492 - char_0_acc: 0.0292 - char_1_acc: 0.0312 - char_2_acc: 0.0252 - char_3_acc: 0.0262 - char_4_acc: 0.0393 - char_5_acc: 0.0202 - char_6_acc: 0.0312 - val_loss: 34.4505 - val_char_0_loss: 4.7341 - val_char_1_loss: 5.0102 - val_char_2_loss: 5.0667 - val_char_3_loss: 4.7879 - val_char_4_loss: 4.7861 - val_char_5_loss: 4.9816 - val_char_6_loss: 5.0839 - val_char_0_acc: 0.0312 - val_char_1_acc: 0.0187 - val_char_2_acc: 0.0125 - val_char_3_acc: 0.0437 - val_char_4_acc: 0.0312 - val_char_5_acc: 0.0375 - val_char_6_acc: 0.0625\n",
      "Epoch 9/10\n",
      " - 5s - loss: 35.5245 - char_0_loss: 5.1548 - char_1_loss: 5.0642 - char_2_loss: 5.1190 - char_3_loss: 4.9979 - char_4_loss: 5.1058 - char_5_loss: 5.0699 - char_6_loss: 5.0129 - char_0_acc: 0.0252 - char_1_acc: 0.0312 - char_2_acc: 0.0252 - char_3_acc: 0.0353 - char_4_acc: 0.0282 - char_5_acc: 0.0333 - char_6_acc: 0.0272 - val_loss: 34.9429 - val_char_0_loss: 4.9628 - val_char_1_loss: 4.9864 - val_char_2_loss: 5.0557 - val_char_3_loss: 4.9643 - val_char_4_loss: 4.6623 - val_char_5_loss: 5.2932 - val_char_6_loss: 5.0182 - val_char_0_acc: 0.0250 - val_char_1_acc: 0.0500 - val_char_2_acc: 0.0187 - val_char_3_acc: 0.0375 - val_char_4_acc: 0.0500 - val_char_5_acc: 0.0375 - val_char_6_acc: 0.0125\n",
      "Epoch 10/10\n",
      " - 4s - loss: 35.4861 - char_0_loss: 5.0748 - char_1_loss: 5.1818 - char_2_loss: 4.9786 - char_3_loss: 5.1117 - char_4_loss: 4.8869 - char_5_loss: 5.1362 - char_6_loss: 5.1161 - char_0_acc: 0.0262 - char_1_acc: 0.0252 - char_2_acc: 0.0343 - char_3_acc: 0.0282 - char_4_acc: 0.0302 - char_5_acc: 0.0333 - char_6_acc: 0.0262 - val_loss: 35.3832 - val_char_0_loss: 5.0890 - val_char_1_loss: 4.7833 - val_char_2_loss: 4.9797 - val_char_3_loss: 5.1536 - val_char_4_loss: 5.4105 - val_char_5_loss: 4.9498 - val_char_6_loss: 5.0174 - val_char_0_acc: 0.0250 - val_char_1_acc: 0.0187 - val_char_2_acc: 0.0312 - val_char_3_acc: 0.0312 - val_char_4_acc: 0.0125 - val_char_5_acc: 0.0312 - val_char_6_acc: 0.0375\n"
     ]
    }
   ],
   "source": [
    "from keras import optimizers\n",
    "from keras.preprocessing.image import ImageDataGenerator\n",
    "model.compile(loss='categorical_crossentropy',\n",
    "             optimizer=optimizers.Adam(),\n",
    "             metrics=['acc'])\n",
    "\n",
    "# datagen = ImageDataGenerator(\n",
    "#     featurewise_center=True,\n",
    "#     featurewise_std_normalization=True,\n",
    "#     rotation_range=20,\n",
    "#     width_shift_range=0.2,\n",
    "#     height_shift_range=0.2,\n",
    "#     horizontal_flip=True)\n",
    "\n",
    "# datagen.fit(x_train)\n",
    "\n",
    "history = model.fit_generator(gen_batch(),\n",
    "                              epochs=10, \n",
    "                              steps_per_epoch=len(x_train)//32,\n",
    "                              validation_data=gen_batch(), \n",
    "                              validation_steps=5, \n",
    "                              verbose=2)"
   ]
  },
  {
   "cell_type": "code",
   "execution_count": 59,
   "metadata": {
    "scrolled": false
   },
   "outputs": [
    {
     "name": "stderr",
     "output_type": "stream",
     "text": [
      "/home/dotrungkien/py35/lib/python3.5/site-packages/keras/engine/topology.py:1253: UserWarning: Update your `InputLayer` call to the Keras 2 API: `InputLayer(sparse=False, name=\"input_1\", batch_input_shape=[None, 170..., dtype=\"float32\")`\n",
      "  return cls(**config)\n",
      "/home/dotrungkien/py35/lib/python3.5/site-packages/keras/engine/topology.py:1253: UserWarning: Update your `Conv2D` call to the Keras 2 API: `Conv2D(kernel_initializer=\"glorot_uniform\", name=\"convolution2d_1\", trainable=True, kernel_regularizer=None, padding=\"valid\", filters=32, kernel_size=(3, 3), bias_regularizer=None, activation=\"relu\", kernel_constraint=None, data_format=\"channels_last\", activity_regularizer=None, bias_constraint=None, strides=[1, 1], use_bias=True)`\n",
      "  return cls(**config)\n",
      "/home/dotrungkien/py35/lib/python3.5/site-packages/keras/engine/topology.py:1253: UserWarning: Update your `Conv2D` call to the Keras 2 API: `Conv2D(kernel_initializer=\"glorot_uniform\", name=\"convolution2d_2\", trainable=True, kernel_regularizer=None, padding=\"valid\", filters=32, kernel_size=(3, 3), bias_regularizer=None, activation=\"relu\", kernel_constraint=None, data_format=\"channels_last\", activity_regularizer=None, bias_constraint=None, strides=[1, 1], use_bias=True)`\n",
      "  return cls(**config)\n",
      "/home/dotrungkien/py35/lib/python3.5/site-packages/keras/engine/topology.py:1253: UserWarning: Update your `MaxPooling2D` call to the Keras 2 API: `MaxPooling2D(padding=\"valid\", pool_size=[2, 2], name=\"maxpooling2d_1\", trainable=True, strides=[2, 2], data_format=\"channels_last\")`\n",
      "  return cls(**config)\n",
      "/home/dotrungkien/py35/lib/python3.5/site-packages/keras/engine/topology.py:1253: UserWarning: Update your `Conv2D` call to the Keras 2 API: `Conv2D(kernel_initializer=\"glorot_uniform\", name=\"convolution2d_3\", trainable=True, kernel_regularizer=None, padding=\"valid\", filters=32, kernel_size=(3, 3), bias_regularizer=None, activation=\"relu\", kernel_constraint=None, data_format=\"channels_last\", activity_regularizer=None, bias_constraint=None, strides=[1, 1], use_bias=True)`\n",
      "  return cls(**config)\n",
      "/home/dotrungkien/py35/lib/python3.5/site-packages/keras/engine/topology.py:1253: UserWarning: Update your `Conv2D` call to the Keras 2 API: `Conv2D(kernel_initializer=\"glorot_uniform\", name=\"convolution2d_4\", trainable=True, kernel_regularizer=None, padding=\"valid\", filters=32, kernel_size=(3, 3), bias_regularizer=None, activation=\"relu\", kernel_constraint=None, data_format=\"channels_last\", activity_regularizer=None, bias_constraint=None, strides=[1, 1], use_bias=True)`\n",
      "  return cls(**config)\n",
      "/home/dotrungkien/py35/lib/python3.5/site-packages/keras/engine/topology.py:1253: UserWarning: Update your `MaxPooling2D` call to the Keras 2 API: `MaxPooling2D(padding=\"valid\", pool_size=[2, 2], name=\"maxpooling2d_2\", trainable=True, strides=[2, 2], data_format=\"channels_last\")`\n",
      "  return cls(**config)\n",
      "/home/dotrungkien/py35/lib/python3.5/site-packages/keras/engine/topology.py:1253: UserWarning: Update your `Conv2D` call to the Keras 2 API: `Conv2D(kernel_initializer=\"glorot_uniform\", name=\"convolution2d_5\", trainable=True, kernel_regularizer=None, padding=\"valid\", filters=32, kernel_size=(3, 3), bias_regularizer=None, activation=\"relu\", kernel_constraint=None, data_format=\"channels_last\", activity_regularizer=None, bias_constraint=None, strides=[1, 1], use_bias=True)`\n",
      "  return cls(**config)\n",
      "/home/dotrungkien/py35/lib/python3.5/site-packages/keras/engine/topology.py:1253: UserWarning: Update your `Conv2D` call to the Keras 2 API: `Conv2D(kernel_initializer=\"glorot_uniform\", name=\"convolution2d_6\", trainable=True, kernel_regularizer=None, padding=\"valid\", filters=32, kernel_size=(3, 3), bias_regularizer=None, activation=\"relu\", kernel_constraint=None, data_format=\"channels_last\", activity_regularizer=None, bias_constraint=None, strides=[1, 1], use_bias=True)`\n",
      "  return cls(**config)\n",
      "/home/dotrungkien/py35/lib/python3.5/site-packages/keras/engine/topology.py:1253: UserWarning: Update your `MaxPooling2D` call to the Keras 2 API: `MaxPooling2D(padding=\"valid\", pool_size=[2, 2], name=\"maxpooling2d_3\", trainable=True, strides=[2, 2], data_format=\"channels_last\")`\n",
      "  return cls(**config)\n",
      "/home/dotrungkien/py35/lib/python3.5/site-packages/keras/engine/topology.py:1253: UserWarning: Update your `Dense` call to the Keras 2 API: `Dense(kernel_constraint=None, kernel_initializer=\"glorot_uniform\", name=\"dense_1\", units=32, trainable=True, kernel_regularizer=None, activity_regularizer=None, bias_constraint=None, input_dim=192, bias_regularizer=None, use_bias=True, activation=\"relu\")`\n",
      "  return cls(**config)\n",
      "/home/dotrungkien/py35/lib/python3.5/site-packages/keras/layers/recurrent.py:1600: UserWarning: The `input_dim` and `input_length` arguments in recurrent layers are deprecated. Use `input_shape` instead.\n",
      "  return cls(**config)\n",
      "/home/dotrungkien/py35/lib/python3.5/site-packages/keras/layers/recurrent.py:1600: UserWarning: Update your `GRU` call to the Keras 2 API: `GRU(unroll=False, kernel_initializer=\"he_normal\", name=\"gru1\", go_backwards=False, units=128, trainable=True, implementation=0, recurrent_regularizer=None, kernel_regularizer=None, dropout=0.0, activation=\"tanh\", recurrent_activation=\"hard_sigmoid\", recurrent_initializer=\"orthogonal\", stateful=False, bias_regularizer=None, return_sequences=True, input_shape=(None, 32), recurrent_dropout=0.0)`\n",
      "  return cls(**config)\n",
      "/home/dotrungkien/py35/lib/python3.5/site-packages/keras/layers/recurrent.py:1463: UserWarning: `implementation=0` has been deprecated, and now defaults to `implementation=1`.Please update your layer call.\n",
      "  warnings.warn('`implementation=0` has been deprecated, '\n",
      "/home/dotrungkien/py35/lib/python3.5/site-packages/keras/layers/recurrent.py:1600: UserWarning: Update your `GRU` call to the Keras 2 API: `GRU(unroll=False, kernel_initializer=\"he_normal\", name=\"gru1_b\", go_backwards=True, units=128, trainable=True, implementation=0, recurrent_regularizer=None, kernel_regularizer=None, dropout=0.0, activation=\"tanh\", recurrent_activation=\"hard_sigmoid\", recurrent_initializer=\"orthogonal\", stateful=False, bias_regularizer=None, return_sequences=True, input_shape=(None, 32), recurrent_dropout=0.0)`\n",
      "  return cls(**config)\n",
      "/home/dotrungkien/py35/lib/python3.5/site-packages/keras/engine/topology.py:1253: UserWarning: The `Merge` layer is deprecated and will be removed after 08/2017. Use instead layers from `keras.layers.merge`, e.g. `add`, `concatenate`, etc.\n",
      "  return cls(**config)\n",
      "/home/dotrungkien/py35/lib/python3.5/site-packages/keras/layers/recurrent.py:1600: UserWarning: Update your `GRU` call to the Keras 2 API: `GRU(unroll=False, kernel_initializer=\"he_normal\", name=\"gru2\", go_backwards=False, units=128, trainable=True, implementation=0, recurrent_regularizer=None, kernel_regularizer=None, dropout=0.0, activation=\"tanh\", recurrent_activation=\"hard_sigmoid\", recurrent_initializer=\"orthogonal\", stateful=False, bias_regularizer=None, return_sequences=True, input_shape=(None, 128..., recurrent_dropout=0.0)`\n",
      "  return cls(**config)\n",
      "/home/dotrungkien/py35/lib/python3.5/site-packages/keras/layers/recurrent.py:1600: UserWarning: Update your `GRU` call to the Keras 2 API: `GRU(unroll=False, kernel_initializer=\"he_normal\", name=\"gru2_b\", go_backwards=True, units=128, trainable=True, implementation=0, recurrent_regularizer=None, kernel_regularizer=None, dropout=0.0, activation=\"tanh\", recurrent_activation=\"hard_sigmoid\", recurrent_initializer=\"orthogonal\", stateful=False, bias_regularizer=None, return_sequences=True, input_shape=(None, 128..., recurrent_dropout=0.0)`\n",
      "  return cls(**config)\n",
      "/home/dotrungkien/py35/lib/python3.5/site-packages/keras/engine/topology.py:1253: UserWarning: Update your `Dense` call to the Keras 2 API: `Dense(kernel_constraint=None, kernel_initializer=\"he_normal\", name=\"dense_2\", units=37, trainable=True, kernel_regularizer=None, activity_regularizer=None, bias_constraint=None, input_dim=256, bias_regularizer=None, use_bias=True, activation=\"softmax\")`\n",
      "  return cls(**config)\n",
      "/home/dotrungkien/py35/lib/python3.5/site-packages/keras/engine/topology.py:1253: UserWarning: Update your `InputLayer` call to the Keras 2 API: `InputLayer(sparse=False, name=\"the_labels\", batch_input_shape=[None, 4], dtype=\"float32\")`\n",
      "  return cls(**config)\n",
      "/home/dotrungkien/py35/lib/python3.5/site-packages/keras/engine/topology.py:1253: UserWarning: Update your `InputLayer` call to the Keras 2 API: `InputLayer(sparse=False, name=\"input_length\", batch_input_shape=[None, 1], dtype=\"int64\")`\n",
      "  return cls(**config)\n",
      "/home/dotrungkien/py35/lib/python3.5/site-packages/keras/engine/topology.py:1253: UserWarning: Update your `InputLayer` call to the Keras 2 API: `InputLayer(sparse=False, name=\"label_length\", batch_input_shape=[None, 1], dtype=\"int64\")`\n",
      "  return cls(**config)\n"
     ]
    },
    {
     "ename": "ValueError",
     "evalue": "Unknown loss function:<lambda>",
     "output_type": "error",
     "traceback": [
      "\u001b[0;31m---------------------------------------------------------------------------\u001b[0m",
      "\u001b[0;31mValueError\u001b[0m                                Traceback (most recent call last)",
      "\u001b[0;32m<ipython-input-59-8ec336346a5d>\u001b[0m in \u001b[0;36m<module>\u001b[0;34m()\u001b[0m\n\u001b[1;32m      1\u001b[0m \u001b[0;32mfrom\u001b[0m \u001b[0mkeras\u001b[0m\u001b[0;34m.\u001b[0m\u001b[0mmodels\u001b[0m \u001b[0;32mimport\u001b[0m \u001b[0mload_model\u001b[0m\u001b[0;34m\u001b[0m\u001b[0m\n\u001b[0;32m----> 2\u001b[0;31m \u001b[0mmodel\u001b[0m \u001b[0;34m=\u001b[0m \u001b[0mload_model\u001b[0m\u001b[0;34m(\u001b[0m\u001b[0;34m'model.h5'\u001b[0m\u001b[0;34m)\u001b[0m\u001b[0;34m\u001b[0m\u001b[0m\n\u001b[0m\u001b[1;32m      3\u001b[0m \u001b[0mmodel\u001b[0m\u001b[0;34m.\u001b[0m\u001b[0msummary\u001b[0m\u001b[0;34m(\u001b[0m\u001b[0;34m)\u001b[0m\u001b[0;34m\u001b[0m\u001b[0m\n",
      "\u001b[0;32m~/py35/lib/python3.5/site-packages/keras/models.py\u001b[0m in \u001b[0;36mload_model\u001b[0;34m(filepath, custom_objects, compile)\u001b[0m\n\u001b[1;32m    268\u001b[0m                       \u001b[0mmetrics\u001b[0m\u001b[0;34m=\u001b[0m\u001b[0mmetrics\u001b[0m\u001b[0;34m,\u001b[0m\u001b[0;34m\u001b[0m\u001b[0m\n\u001b[1;32m    269\u001b[0m                       \u001b[0mloss_weights\u001b[0m\u001b[0;34m=\u001b[0m\u001b[0mloss_weights\u001b[0m\u001b[0;34m,\u001b[0m\u001b[0;34m\u001b[0m\u001b[0m\n\u001b[0;32m--> 270\u001b[0;31m                       sample_weight_mode=sample_weight_mode)\n\u001b[0m\u001b[1;32m    271\u001b[0m \u001b[0;34m\u001b[0m\u001b[0m\n\u001b[1;32m    272\u001b[0m         \u001b[0;31m# Set optimizer weights.\u001b[0m\u001b[0;34m\u001b[0m\u001b[0;34m\u001b[0m\u001b[0m\n",
      "\u001b[0;32m~/py35/lib/python3.5/site-packages/keras/engine/training.py\u001b[0m in \u001b[0;36mcompile\u001b[0;34m(self, optimizer, loss, metrics, loss_weights, sample_weight_mode, weighted_metrics, target_tensors, **kwargs)\u001b[0m\n\u001b[1;32m    654\u001b[0m                                   \u001b[0;34m'any data to be passed to \"'\u001b[0m \u001b[0;34m+\u001b[0m \u001b[0mname\u001b[0m \u001b[0;34m+\u001b[0m\u001b[0;34m\u001b[0m\u001b[0m\n\u001b[1;32m    655\u001b[0m                                   '\" during training.', stacklevel=2)\n\u001b[0;32m--> 656\u001b[0;31m                 \u001b[0mloss_functions\u001b[0m\u001b[0;34m.\u001b[0m\u001b[0mappend\u001b[0m\u001b[0;34m(\u001b[0m\u001b[0mlosses\u001b[0m\u001b[0;34m.\u001b[0m\u001b[0mget\u001b[0m\u001b[0;34m(\u001b[0m\u001b[0mloss\u001b[0m\u001b[0;34m.\u001b[0m\u001b[0mget\u001b[0m\u001b[0;34m(\u001b[0m\u001b[0mname\u001b[0m\u001b[0;34m)\u001b[0m\u001b[0;34m)\u001b[0m\u001b[0;34m)\u001b[0m\u001b[0;34m\u001b[0m\u001b[0m\n\u001b[0m\u001b[1;32m    657\u001b[0m         \u001b[0;32melif\u001b[0m \u001b[0misinstance\u001b[0m\u001b[0;34m(\u001b[0m\u001b[0mloss\u001b[0m\u001b[0;34m,\u001b[0m \u001b[0mlist\u001b[0m\u001b[0;34m)\u001b[0m\u001b[0;34m:\u001b[0m\u001b[0;34m\u001b[0m\u001b[0m\n\u001b[1;32m    658\u001b[0m             \u001b[0;32mif\u001b[0m \u001b[0mlen\u001b[0m\u001b[0;34m(\u001b[0m\u001b[0mloss\u001b[0m\u001b[0;34m)\u001b[0m \u001b[0;34m!=\u001b[0m \u001b[0mlen\u001b[0m\u001b[0;34m(\u001b[0m\u001b[0mself\u001b[0m\u001b[0;34m.\u001b[0m\u001b[0moutputs\u001b[0m\u001b[0;34m)\u001b[0m\u001b[0;34m:\u001b[0m\u001b[0;34m\u001b[0m\u001b[0m\n",
      "\u001b[0;32m~/py35/lib/python3.5/site-packages/keras/losses.py\u001b[0m in \u001b[0;36mget\u001b[0;34m(identifier)\u001b[0m\n\u001b[1;32m    101\u001b[0m     \u001b[0;32mif\u001b[0m \u001b[0misinstance\u001b[0m\u001b[0;34m(\u001b[0m\u001b[0midentifier\u001b[0m\u001b[0;34m,\u001b[0m \u001b[0msix\u001b[0m\u001b[0;34m.\u001b[0m\u001b[0mstring_types\u001b[0m\u001b[0;34m)\u001b[0m\u001b[0;34m:\u001b[0m\u001b[0;34m\u001b[0m\u001b[0m\n\u001b[1;32m    102\u001b[0m         \u001b[0midentifier\u001b[0m \u001b[0;34m=\u001b[0m \u001b[0mstr\u001b[0m\u001b[0;34m(\u001b[0m\u001b[0midentifier\u001b[0m\u001b[0;34m)\u001b[0m\u001b[0;34m\u001b[0m\u001b[0m\n\u001b[0;32m--> 103\u001b[0;31m         \u001b[0;32mreturn\u001b[0m \u001b[0mdeserialize\u001b[0m\u001b[0;34m(\u001b[0m\u001b[0midentifier\u001b[0m\u001b[0;34m)\u001b[0m\u001b[0;34m\u001b[0m\u001b[0m\n\u001b[0m\u001b[1;32m    104\u001b[0m     \u001b[0;32melif\u001b[0m \u001b[0mcallable\u001b[0m\u001b[0;34m(\u001b[0m\u001b[0midentifier\u001b[0m\u001b[0;34m)\u001b[0m\u001b[0;34m:\u001b[0m\u001b[0;34m\u001b[0m\u001b[0m\n\u001b[1;32m    105\u001b[0m         \u001b[0;32mreturn\u001b[0m \u001b[0midentifier\u001b[0m\u001b[0;34m\u001b[0m\u001b[0m\n",
      "\u001b[0;32m~/py35/lib/python3.5/site-packages/keras/losses.py\u001b[0m in \u001b[0;36mdeserialize\u001b[0;34m(name, custom_objects)\u001b[0m\n\u001b[1;32m     93\u001b[0m                                     \u001b[0mmodule_objects\u001b[0m\u001b[0;34m=\u001b[0m\u001b[0mglobals\u001b[0m\u001b[0;34m(\u001b[0m\u001b[0;34m)\u001b[0m\u001b[0;34m,\u001b[0m\u001b[0;34m\u001b[0m\u001b[0m\n\u001b[1;32m     94\u001b[0m                                     \u001b[0mcustom_objects\u001b[0m\u001b[0;34m=\u001b[0m\u001b[0mcustom_objects\u001b[0m\u001b[0;34m,\u001b[0m\u001b[0;34m\u001b[0m\u001b[0m\n\u001b[0;32m---> 95\u001b[0;31m                                     printable_module_name='loss function')\n\u001b[0m\u001b[1;32m     96\u001b[0m \u001b[0;34m\u001b[0m\u001b[0m\n\u001b[1;32m     97\u001b[0m \u001b[0;34m\u001b[0m\u001b[0m\n",
      "\u001b[0;32m~/py35/lib/python3.5/site-packages/keras/utils/generic_utils.py\u001b[0m in \u001b[0;36mdeserialize_keras_object\u001b[0;34m(identifier, module_objects, custom_objects, printable_module_name)\u001b[0m\n\u001b[1;32m    157\u001b[0m             \u001b[0;32mif\u001b[0m \u001b[0mfn\u001b[0m \u001b[0;32mis\u001b[0m \u001b[0;32mNone\u001b[0m\u001b[0;34m:\u001b[0m\u001b[0;34m\u001b[0m\u001b[0m\n\u001b[1;32m    158\u001b[0m                 raise ValueError('Unknown ' + printable_module_name +\n\u001b[0;32m--> 159\u001b[0;31m                                  ':' + function_name)\n\u001b[0m\u001b[1;32m    160\u001b[0m         \u001b[0;32mreturn\u001b[0m \u001b[0mfn\u001b[0m\u001b[0;34m\u001b[0m\u001b[0m\n\u001b[1;32m    161\u001b[0m     \u001b[0;32melse\u001b[0m\u001b[0;34m:\u001b[0m\u001b[0;34m\u001b[0m\u001b[0m\n",
      "\u001b[0;31mValueError\u001b[0m: Unknown loss function:<lambda>"
     ]
    }
   ],
   "source": [
    "from keras.models import load_model\n",
    "model = load_model('model.h5')\n",
    "model.summary()"
   ]
  },
  {
   "cell_type": "code",
   "execution_count": 60,
   "metadata": {},
   "outputs": [
    {
     "data": {
      "text/plain": [
       "'2.0.9'"
      ]
     },
     "execution_count": 60,
     "metadata": {},
     "output_type": "execute_result"
    }
   ],
   "source": [
    "import keras\n",
    "keras.__version__\n"
   ]
  },
  {
   "cell_type": "code",
   "execution_count": null,
   "metadata": {},
   "outputs": [],
   "source": []
  },
  {
   "cell_type": "code",
   "execution_count": null,
   "metadata": {},
   "outputs": [],
   "source": []
  },
  {
   "cell_type": "code",
   "execution_count": null,
   "metadata": {},
   "outputs": [],
   "source": []
  },
  {
   "cell_type": "code",
   "execution_count": null,
   "metadata": {},
   "outputs": [],
   "source": []
  },
  {
   "cell_type": "code",
   "execution_count": null,
   "metadata": {},
   "outputs": [],
   "source": []
  },
  {
   "cell_type": "code",
   "execution_count": null,
   "metadata": {},
   "outputs": [],
   "source": []
  },
  {
   "cell_type": "code",
   "execution_count": null,
   "metadata": {},
   "outputs": [],
   "source": []
  },
  {
   "cell_type": "code",
   "execution_count": null,
   "metadata": {},
   "outputs": [],
   "source": []
  },
  {
   "cell_type": "code",
   "execution_count": null,
   "metadata": {},
   "outputs": [],
   "source": []
  },
  {
   "cell_type": "code",
   "execution_count": null,
   "metadata": {},
   "outputs": [],
   "source": []
  },
  {
   "cell_type": "code",
   "execution_count": null,
   "metadata": {},
   "outputs": [],
   "source": []
  },
  {
   "cell_type": "code",
   "execution_count": null,
   "metadata": {},
   "outputs": [],
   "source": []
  },
  {
   "cell_type": "code",
   "execution_count": null,
   "metadata": {},
   "outputs": [],
   "source": []
  },
  {
   "cell_type": "code",
   "execution_count": null,
   "metadata": {},
   "outputs": [],
   "source": []
  },
  {
   "cell_type": "code",
   "execution_count": null,
   "metadata": {},
   "outputs": [],
   "source": []
  },
  {
   "cell_type": "code",
   "execution_count": null,
   "metadata": {},
   "outputs": [],
   "source": []
  }
 ],
 "metadata": {
  "kernelspec": {
   "display_name": "Python 3",
   "language": "python",
   "name": "python3"
  },
  "language_info": {
   "codemirror_mode": {
    "name": "ipython",
    "version": 3
   },
   "file_extension": ".py",
   "mimetype": "text/x-python",
   "name": "python",
   "nbconvert_exporter": "python",
   "pygments_lexer": "ipython3",
   "version": "3.5.2"
  }
 },
 "nbformat": 4,
 "nbformat_minor": 2
}
